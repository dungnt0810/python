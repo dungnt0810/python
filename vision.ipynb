{
 "cells": [
  {
   "cell_type": "markdown",
   "metadata": {},
   "source": [
    "## filter"
   ]
  },
  {
   "cell_type": "code",
   "execution_count": 1,
   "metadata": {},
   "outputs": [
    {
     "name": "stdout",
     "output_type": "stream",
     "text": [
      "[[ 8  4  1]\n",
      " [-4  2  1]\n",
      " [ 6  0 -1]]\n"
     ]
    }
   ],
   "source": [
    "import cv2 as cv\n",
    "import numpy as np\n",
    "import scipy.signal as sig\n",
    "\n",
    "# A1 = 3x3 matrix\n",
    "A1 = np.array([[1,3, 1],\n",
    "                    [0, -1, 1],\n",
    "                    [2, 2, -1]])\n",
    "\n",
    "# Template\n",
    "kernel = np.array([[1,2],\n",
    "                [0,-1]])\n",
    "\n",
    "# kernel = np.array ([[8, 9, 10, 11, 12],\n",
    "#                     [15, 16, 17, 18, 19],\n",
    "#                     [22, 23, 24, 25, 26],\n",
    "#                     [29, 30, 31, 32, 33]])\n",
    "\n",
    "#dap an ơ tam \n",
    "#cross-correlation\n",
    "print(sig.correlate2d(A1, kernel, boundary='fill', mode='same'))\n",
    "\n",
    "#convolution\n",
    "# print(sig.convolve(A1, kernel, mode='same'))\n",
    "\n",
    "#median filter = lọc trung vị\n",
    "# print(sig.medfilt(A1, kernel_size=None))"
   ]
  },
  {
   "cell_type": "markdown",
   "metadata": {},
   "source": [
    "## image processing"
   ]
  },
  {
   "cell_type": "code",
   "execution_count": 2,
   "metadata": {},
   "outputs": [
    {
     "name": "stdout",
     "output_type": "stream",
     "text": [
      "(320, 320, 3)\n"
     ]
    }
   ],
   "source": [
    "import cv2\n",
    "import numpy as np\n",
    "\n",
    "# open cv tra ve gia tri cac kenh mau mac dinh la B G R\n",
    "img = cv2.imread('images/thu.jpg')\n",
    "# copy image\n",
    "img_clone = img.copy()\n",
    "# Lay kich thuoc cua anh, anh co 307200 pixels\n",
    "# print(img_clone.size)\n",
    "# print(type(img_clone))\n",
    "# width= so cot, height= so hang, depth= so kenh mau\n",
    "print(img_clone.shape)\n",
    "\n",
    "# Lay ma tran theo tung kenh mau\n",
    "B = img[:,:,0] \n",
    "G = img[:,:,1] \n",
    "R = img[:,:,2]\n",
    "\n",
    "B = B*0.114\n",
    "G = G*0.587\n",
    "R = R*0.299\n",
    "gray = B+G+R\n",
    "imgGray = img.copy()\n",
    "for i in range(3):\n",
    "    imgGray[:,:,i] = gray\n",
    "\n",
    "cv2.imshow('Image Gray', imgGray)\n",
    "cv2.waitKey(0)\n",
    "cv2.destroyAllWindows()\n",
    "\n",
    "p1 = [50, 60]\n",
    "p2 = [320, 320]\n",
    "# toa do lan luot la 50,60 320,320\n",
    "# Cut = imgGray[50:320, 60:320]\n",
    "Cut = imgGray[p1[0]:p2[0], p1[1]:p2[1]]\n",
    "cv2.imshow('Region of Interest', Cut)\n",
    "cv2.waitKey(0)\n",
    "cv2.destroyAllWindows()"
   ]
  },
  {
   "cell_type": "code",
   "execution_count": 1,
   "metadata": {},
   "outputs": [],
   "source": [
    "import cv2\n",
    "import numpy as np\n",
    "from matplotlib import pyplot as plt\n",
    "from numpy.core.fromnumeric import size\n",
    "\n",
    "# open cv tra ve gia tri cac kenh mau mac dinh la B G R\n",
    "img = cv2.imread('images/thu.jpg')\n",
    "img = cv2.cvtColor(img, cv2.COLOR_BGR2GRAY)\n",
    "im = img.copy()\n",
    "\n",
    "cv2.imshow('image',im)\n",
    "\n",
    "# histr = cv2.calcHist([im],[0],None,[256],[0,256])\n",
    "# plt.plot(histr)\n",
    "# plt.show()\n",
    "# plt.close()\n",
    "\n",
    "# ret, th1 = cv2.threshold(im, 80, 120, cv2.THRESH_BINARY)\n",
    "th2 = cv2.adaptiveThreshold(im, 255, cv2.ADAPTIVE_THRESH_MEAN_C, cv2.THRESH_BINARY,11,2)\n",
    "\n",
    "# cv2.imshow('th1',th1)\n",
    "cv2.imshow('th',th2)\n",
    "\n",
    "kernel = np.ones((3,3))\n",
    "binImg = th2/255\n",
    "sizeSrc = th2.shape\n",
    "sizeKernel = kernel.shape\n",
    "# Them padding\n",
    "R = sizeSrc[0] + sizeKernel[0] - 1\n",
    "C = sizeSrc[1] + sizeKernel[1] - 1\n",
    "\n",
    "N = np.zeros((R, C))\n",
    "for i in range(sizeSrc[0]):\n",
    "    for j in range(sizeSrc[1]):\n",
    "        N[i+1, j+1] = binImg[i, j]\n",
    "# # Dilation\n",
    "for i in range(sizeSrc[0]):\n",
    "    for j in range(sizeSrc[1]):\n",
    "        k = N[i:i+sizeKernel[0], j:j+sizeKernel[1]]\n",
    "        result = (k == kernel)\n",
    "        final = np.all(result == True)\n",
    "        if final: \n",
    "            binImg[i,j] = 1\n",
    "        else:\n",
    "            binImg[i,j] = 0\n",
    "\n",
    "# Erosion\n",
    "# for i in range(sizeSrc[0]):\n",
    "#     for j in range(sizeSrc[1]):\n",
    "#         k = N[i:i+sizeKernel[0], j:j+sizeKernel[1]]\n",
    "#         result = (k == kernel)\n",
    "#         final = np.any(result == True)\n",
    "#         if final: \n",
    "#             binImg[i,j] = 1\n",
    "#         else:\n",
    "#             binImg[i,j] = 0\n",
    "\n",
    "cv2.imshow('Morphological', binImg)\n",
    "\n",
    "cv2.waitKey(0)\n",
    "cv2.destroyAllWindows()\n"
   ]
  },
  {
   "cell_type": "code",
   "execution_count": 2,
   "metadata": {},
   "outputs": [
    {
     "name": "stdout",
     "output_type": "stream",
     "text": [
      "[[0 0 0 0 0 0 0 0]\n",
      " [0 0 0 1 1 0 0 0]\n",
      " [0 1 1 1 1 1 1 0]\n",
      " [0 0 1 1 1 1 1 0]\n",
      " [0 1 1 1 1 1 1 0]\n",
      " [0 0 0 0 0 0 0 0]]\n"
     ]
    }
   ],
   "source": [
    "import cv2 as cv\n",
    "import numpy as np\n",
    "import scipy.ndimage as nd\n",
    "\n",
    "# A1 = 8x6 matrix\n",
    "A1 = np.array([[0,0,0,0,0,0,0,0],\n",
    "               [0,0,0,1,1,0,0,0],\n",
    "               [0,1,1,1,1,1,1,0],\n",
    "               [0,0,1,1,1,0,1,0],\n",
    "               [0,1,1,1,1,1,1,0],\n",
    "               [0,0,0,0,0,0,0,0]])\n",
    "\n",
    "# A1 = np.array ([[0, 0, 0],\n",
    "#                 [0, 1, 1],\n",
    "#                 [1, 1, 1]])\n",
    "\n",
    "# Cross-shaped kernel (structuring element)\n",
    "kernel = np.array ([[0, 1, 0],\n",
    "                 [1, 1, 1],\n",
    "                 [0, 1, 1]])\n",
    "\n",
    "\n",
    "\n",
    "# # Dilation\n",
    "# print(nd.binary_dilation(A1, structure=kernel).astype(A1.dtype))\n",
    "\n",
    "\n",
    "# Erosion\n",
    "# print(nd.binary_erosion(A1, structure=kernel).astype(A1.dtype))\n",
    "\n",
    "# Opening\n",
    "# print(nd.binary_opening(A1,structure=kernel).astype(A1.dtype))\n",
    "\n",
    "# Closing\n",
    "print(nd.binary_closing(A1, structure=kernel).astype(A1.dtype))\n"
   ]
  }
 ],
 "metadata": {
  "interpreter": {
   "hash": "38740d3277777e2cd7c6c2cc9d8addf5118fdf3f82b1b39231fd12aeac8aee8b"
  },
  "kernelspec": {
   "display_name": "Python 3.10.2 64-bit",
   "language": "python",
   "name": "python3"
  },
  "language_info": {
   "codemirror_mode": {
    "name": "ipython",
    "version": 3
   },
   "file_extension": ".py",
   "mimetype": "text/x-python",
   "name": "python",
   "nbconvert_exporter": "python",
   "pygments_lexer": "ipython3",
   "version": "3.10.2"
  },
  "orig_nbformat": 4
 },
 "nbformat": 4,
 "nbformat_minor": 2
}
